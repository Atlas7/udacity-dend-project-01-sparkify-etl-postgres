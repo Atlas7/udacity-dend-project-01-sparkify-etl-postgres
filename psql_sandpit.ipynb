{
 "cells": [
  {
   "cell_type": "markdown",
   "metadata": {
    "editable": true
   },
   "source": [
    "## Get familar with the Posgres command line interface\n",
    "\n",
    "If you start a new terminal, you may play around with Postgres commands via the psql CLI:\n",
    "\n",
    "```\n",
    "sudo -u postgres psql\n",
    "```\n",
    "\n",
    "Here we may try create a database called `test_db_1`.\n",
    "\n",
    "```.psql\n",
    "-- view all roles\n",
    "\\u\n",
    "\n",
    "-- view all databases\n",
    "\\d\n",
    "\n",
    "-- create database called test_db_1\n",
    "CREATE DATABASE test_db_1;\n",
    "\n",
    "-- quit psql CLI\n",
    "\\q\n",
    "```\n",
    "\n",
    "Now that we have `test_db_1` created, let's \"get into the DB\" and do some stuff there.\n",
    "\n",
    "```\n",
    "sudo -u postgres psql test_db_1\n",
    "```\n",
    "\n",
    "Now that we are inside `test_db_1`, let's test create a `test_table_1` inside it, and insert some rows into that table. We drop the table at the end.\n",
    "\n",
    "```\n",
    "CREATE TABLE IF NOT EXISTS test_table_1 (user_id int, user_name varchar, is_reward boolean);\n",
    "\n",
    "BEGIN;INSERT INTO test_table_1 (1, \"Abbey\", true), (2, \"Bob\", false);COMMIT;\n",
    "\n",
    "SELECT * FROM test_table_1;\n",
    "\n",
    "DROP TABLE IF EXISTS test_table_1;\n",
    "\n",
    "-- quit psql CLI\n",
    "\\q\n",
    "```\n",
    "\n",
    "Now let's drop our test database:\n",
    "\n",
    "\n",
    "```\n",
    "sudo -u postgres psql test_db_1\n",
    "```\n",
    "\n",
    "```\n",
    "-- view all databases\n",
    "\\l\n",
    "\n",
    "# drop our test databse\n",
    "DROP DATABASE test_db_1;\n",
    "\n",
    "-- view all databases\n",
    "\\l\n",
    "```\n",
    "\n",
    "We may also play around with these psql queries from inside the jupyter notebook too (in a similar fashions). As per followings."
   ]
  },
  {
   "cell_type": "code",
   "execution_count": 1,
   "metadata": {
    "editable": true
   },
   "outputs": [
    {
     "name": "stdout",
     "output_type": "stream",
     "text": [
      "                                   List of roles\n",
      " Role name |                         Attributes                         | Member of \n",
      "-----------+------------------------------------------------------------+-----------\n",
      " postgres  | Superuser, Create role, Create DB, Replication, Bypass RLS | {}\n",
      " student   | Superuser, Create DB                                       | {}\n",
      "\n"
     ]
    }
   ],
   "source": [
    "# list all roles\n",
    "!echo \"\\du;\" | sudo -u postgres psql"
   ]
  },
  {
   "cell_type": "code",
   "execution_count": 2,
   "metadata": {
    "editable": true
   },
   "outputs": [
    {
     "name": "stdout",
     "output_type": "stream",
     "text": [
      " rolname  | rolsuper | rolinherit | rolcreaterole | rolcreatedb | rolcanlogin | rolreplication | rolconnlimit | rolpassword | rolvaliduntil | rolbypassrls | rolconfig |  oid  \n",
      "----------+----------+------------+---------------+-------------+-------------+----------------+--------------+-------------+---------------+--------------+-----------+-------\n",
      " postgres | t        | t          | t             | t           | t           | t              |           -1 | ********    |               | t            |           |    10\n",
      " student  | t        | t          | f             | t           | t           | f              |           -1 | ********    |               | f            |           | 16385\n",
      "(2 rows)\n",
      "\n"
     ]
    }
   ],
   "source": [
    "# see all role previledges (https://www.postgresql.org/docs/current/datatype-boolean.html)\n",
    "!echo \"SELECT * FROM pg_roles;\" | sudo -u postgres psql"
   ]
  },
  {
   "cell_type": "code",
   "execution_count": 3,
   "metadata": {
    "editable": true
   },
   "outputs": [
    {
     "name": "stdout",
     "output_type": "stream",
     "text": [
      "ALTER ROLE\n"
     ]
    }
   ],
   "source": [
    "# ensure role student has the capability to create database (for just in case. Though I don't think this is actually needed.)\n",
    "!echo \"alter user student createdb;\" | sudo -u postgres psql"
   ]
  },
  {
   "cell_type": "code",
   "execution_count": 4,
   "metadata": {
    "editable": true
   },
   "outputs": [
    {
     "name": "stdout",
     "output_type": "stream",
     "text": [
      " current_user \n",
      "--------------\n",
      " postgres\n",
      "(1 row)\n",
      "\n"
     ]
    }
   ],
   "source": [
    "# what is the current postgres user?\n",
    "!echo \"SELECT current_user;\" | sudo -u postgres psql"
   ]
  },
  {
   "cell_type": "code",
   "execution_count": 5,
   "metadata": {
    "editable": true
   },
   "outputs": [
    {
     "name": "stdout",
     "output_type": "stream",
     "text": [
      " session_user \n",
      "--------------\n",
      " postgres\n",
      "(1 row)\n",
      "\n"
     ]
    }
   ],
   "source": [
    "# what is the current session user?\n",
    "!echo \"SELECT session_user;\" | sudo -u postgres psql"
   ]
  },
  {
   "cell_type": "code",
   "execution_count": 6,
   "metadata": {
    "editable": true
   },
   "outputs": [
    {
     "name": "stdout",
     "output_type": "stream",
     "text": [
      "                             List of databases\n",
      "   Name    |  Owner   | Encoding  | Collate | Ctype |   Access privileges   \n",
      "-----------+----------+-----------+---------+-------+-----------------------\n",
      " postgres  | postgres | SQL_ASCII | C       | C     | \n",
      " studentdb | postgres | SQL_ASCII | C       | C     | =Tc/postgres         +\n",
      "           |          |           |         |       | postgres=CTc/postgres+\n",
      "           |          |           |         |       | student=CTc/postgres\n",
      " template0 | postgres | SQL_ASCII | C       | C     | =c/postgres          +\n",
      "           |          |           |         |       | postgres=CTc/postgres\n",
      " template1 | postgres | SQL_ASCII | C       | C     | =c/postgres          +\n",
      "           |          |           |         |       | postgres=CTc/postgres\n",
      "(4 rows)\n",
      "\n"
     ]
    }
   ],
   "source": [
    "# list all postgres databases in current server. Note that test_db_1 does not exist yet.\n",
    "!echo \"\\l\" | sudo -u postgres psql"
   ]
  },
  {
   "cell_type": "code",
   "execution_count": 7,
   "metadata": {
    "editable": true
   },
   "outputs": [
    {
     "name": "stdout",
     "output_type": "stream",
     "text": [
      "CREATE DATABASE\n"
     ]
    }
   ],
   "source": [
    "# create the database: test_db_1 \n",
    "!echo \"CREATE DATABASE test_db_1;\" | sudo -u postgres psql"
   ]
  },
  {
   "cell_type": "code",
   "execution_count": 8,
   "metadata": {
    "editable": true
   },
   "outputs": [
    {
     "name": "stdout",
     "output_type": "stream",
     "text": [
      "                             List of databases\n",
      "   Name    |  Owner   | Encoding  | Collate | Ctype |   Access privileges   \n",
      "-----------+----------+-----------+---------+-------+-----------------------\n",
      " postgres  | postgres | SQL_ASCII | C       | C     | \n",
      " studentdb | postgres | SQL_ASCII | C       | C     | =Tc/postgres         +\n",
      "           |          |           |         |       | postgres=CTc/postgres+\n",
      "           |          |           |         |       | student=CTc/postgres\n",
      " template0 | postgres | SQL_ASCII | C       | C     | =c/postgres          +\n",
      "           |          |           |         |       | postgres=CTc/postgres\n",
      " template1 | postgres | SQL_ASCII | C       | C     | =c/postgres          +\n",
      "           |          |           |         |       | postgres=CTc/postgres\n",
      " test_db_1 | postgres | SQL_ASCII | C       | C     | \n",
      "(5 rows)\n",
      "\n"
     ]
    }
   ],
   "source": [
    "# list all postgres databases in current server. Note that test_db_1 now exists\n",
    "!echo \"\\l\" | sudo -u postgres psql"
   ]
  },
  {
   "cell_type": "code",
   "execution_count": 9,
   "metadata": {
    "editable": true
   },
   "outputs": [
    {
     "name": "stdout",
     "output_type": "stream",
     "text": [
      "CREATE TABLE\n"
     ]
    }
   ],
   "source": [
    "# let's test create a table called test_table_1 in our newly created test_db_1 database\n",
    "!echo \"CREATE TABLE IF NOT EXISTS test_table_1 (user_id int, user_name varchar, is_reward boolean);\" | sudo -u postgres psql test_db_1"
   ]
  },
  {
   "cell_type": "code",
   "execution_count": 10,
   "metadata": {
    "editable": true
   },
   "outputs": [
    {
     "name": "stdout",
     "output_type": "stream",
     "text": [
      " user_id | user_name | is_reward \n",
      "---------+-----------+-----------\n",
      "(0 rows)\n",
      "\n"
     ]
    }
   ],
   "source": [
    "# if we take a peek at this databse, there should be 0 rows.\n",
    "!echo \"SELECT * FROM test_table_1;\" | sudo -u postgres psql test_db_1"
   ]
  },
  {
   "cell_type": "code",
   "execution_count": 11,
   "metadata": {
    "editable": true
   },
   "outputs": [
    {
     "name": "stdout",
     "output_type": "stream",
     "text": [
      "BEGIN\n",
      "INSERT 0 1\n",
      "COMMIT\n"
     ]
    }
   ],
   "source": [
    "# let's test insert one row of record\n",
    "!echo \"BEGIN;INSERT INTO test_table_1 (user_id, user_name, is_reward) VALUES (1, 'Abbey', true);COMMIT;\" | sudo -u postgres psql test_db_1"
   ]
  },
  {
   "cell_type": "code",
   "execution_count": 12,
   "metadata": {
    "editable": true
   },
   "outputs": [
    {
     "name": "stdout",
     "output_type": "stream",
     "text": [
      " user_id | user_name | is_reward \n",
      "---------+-----------+-----------\n",
      "       1 | Abbey     | t\n",
      "(1 row)\n",
      "\n"
     ]
    }
   ],
   "source": [
    "# if we take a peek at this databse, we see that the new row is now added.\n",
    "!echo \"SELECT * FROM test_table_1;\" | sudo -u postgres psql test_db_1"
   ]
  },
  {
   "cell_type": "code",
   "execution_count": 13,
   "metadata": {
    "editable": true
   },
   "outputs": [
    {
     "name": "stdout",
     "output_type": "stream",
     "text": [
      "BEGIN\n",
      "INSERT 0 1\n",
      "COMMIT\n"
     ]
    }
   ],
   "source": [
    "# let's test insert another row of record\n",
    "!echo \"BEGIN;INSERT INTO test_table_1 (user_id, user_name, is_reward) VALUES (2, 'Bob', false);COMMIT;\" | sudo -u postgres psql test_db_1"
   ]
  },
  {
   "cell_type": "code",
   "execution_count": 14,
   "metadata": {
    "editable": true
   },
   "outputs": [
    {
     "name": "stdout",
     "output_type": "stream",
     "text": [
      " user_id | user_name | is_reward \n",
      "---------+-----------+-----------\n",
      "       1 | Abbey     | t\n",
      "       2 | Bob       | f\n",
      "(2 rows)\n",
      "\n"
     ]
    }
   ],
   "source": [
    "# if we take a peek at this databse, we see that the new row is now added.\n",
    "!echo \"SELECT * FROM test_table_1;\" | sudo -u postgres psql test_db_1"
   ]
  },
  {
   "cell_type": "code",
   "execution_count": 15,
   "metadata": {
    "editable": true
   },
   "outputs": [
    {
     "name": "stdout",
     "output_type": "stream",
     "text": [
      "BEGIN\n",
      "INSERT 0 3\n",
      "COMMIT\n"
     ]
    }
   ],
   "source": [
    "# let's bulk insert multiple rows \n",
    "# https://stackoverflow.com/questions/758945/whats-the-fastest-way-to-do-a-bulk-insert-into-postgres\n",
    "!echo \"BEGIN;INSERT INTO test_table_1 (user_id, user_name, is_reward) VALUES (3, 'Charlie', true), (4, 'Daisy', true), (5, 'Eric', false);COMMIT;\" | sudo -u postgres psql test_db_1"
   ]
  },
  {
   "cell_type": "code",
   "execution_count": 16,
   "metadata": {
    "editable": true
   },
   "outputs": [
    {
     "name": "stdout",
     "output_type": "stream",
     "text": [
      " user_id | user_name | is_reward \n",
      "---------+-----------+-----------\n",
      "       1 | Abbey     | t\n",
      "       2 | Bob       | f\n",
      "       3 | Charlie   | t\n",
      "       4 | Daisy     | t\n",
      "       5 | Eric      | f\n",
      "(5 rows)\n",
      "\n"
     ]
    }
   ],
   "source": [
    "# if we take a peek at this databse, we see that the new rows are now added.\n",
    "!echo \"SELECT * FROM test_table_1;\" | sudo -u postgres psql test_db_1"
   ]
  },
  {
   "cell_type": "code",
   "execution_count": 17,
   "metadata": {
    "editable": true
   },
   "outputs": [
    {
     "name": "stdout",
     "output_type": "stream",
     "text": [
      "DROP DATABASE\n"
     ]
    }
   ],
   "source": [
    "# now that we have finished playing, let's delete our experimental test_db_1 database;\n",
    "!echo \"DROP DATABASE test_db_1;\" | sudo -u postgres psql"
   ]
  },
  {
   "cell_type": "code",
   "execution_count": 18,
   "metadata": {
    "editable": true
   },
   "outputs": [
    {
     "name": "stdout",
     "output_type": "stream",
     "text": [
      "                             List of databases\n",
      "   Name    |  Owner   | Encoding  | Collate | Ctype |   Access privileges   \n",
      "-----------+----------+-----------+---------+-------+-----------------------\n",
      " postgres  | postgres | SQL_ASCII | C       | C     | \n",
      " studentdb | postgres | SQL_ASCII | C       | C     | =Tc/postgres         +\n",
      "           |          |           |         |       | postgres=CTc/postgres+\n",
      "           |          |           |         |       | student=CTc/postgres\n",
      " template0 | postgres | SQL_ASCII | C       | C     | =c/postgres          +\n",
      "           |          |           |         |       | postgres=CTc/postgres\n",
      " template1 | postgres | SQL_ASCII | C       | C     | =c/postgres          +\n",
      "           |          |           |         |       | postgres=CTc/postgres\n",
      "(4 rows)\n",
      "\n"
     ]
    }
   ],
   "source": [
    "# list all postgres databases in current server. Note that test_db_1 no longer exists.\n",
    "!echo \"\\l\" | sudo -u postgres psql"
   ]
  },
  {
   "cell_type": "markdown",
   "metadata": {
    "editable": true
   },
   "source": [
    "## Create the sparkify database for the first time\n",
    "\n",
    "We must create `sparkifydb` for the first time otherwise the `psycopg2.connect(...)` step would throw out an error: `sparkifydb database not exists`"
   ]
  },
  {
   "cell_type": "code",
   "execution_count": 19,
   "metadata": {
    "editable": true
   },
   "outputs": [
    {
     "name": "stdout",
     "output_type": "stream",
     "text": [
      "                             List of databases\n",
      "   Name    |  Owner   | Encoding  | Collate | Ctype |   Access privileges   \n",
      "-----------+----------+-----------+---------+-------+-----------------------\n",
      " postgres  | postgres | SQL_ASCII | C       | C     | \n",
      " studentdb | postgres | SQL_ASCII | C       | C     | =Tc/postgres         +\n",
      "           |          |           |         |       | postgres=CTc/postgres+\n",
      "           |          |           |         |       | student=CTc/postgres\n",
      " template0 | postgres | SQL_ASCII | C       | C     | =c/postgres          +\n",
      "           |          |           |         |       | postgres=CTc/postgres\n",
      " template1 | postgres | SQL_ASCII | C       | C     | =c/postgres          +\n",
      "           |          |           |         |       | postgres=CTc/postgres\n",
      "(4 rows)\n",
      "\n"
     ]
    }
   ],
   "source": [
    "# list all postgres databases in current server. Note that sparkifydb not currently exists.\n",
    "!echo \"\\l\" | sudo -u postgres psql"
   ]
  },
  {
   "cell_type": "code",
   "execution_count": 20,
   "metadata": {
    "editable": true
   },
   "outputs": [
    {
     "name": "stdout",
     "output_type": "stream",
     "text": [
      "CREATE DATABASE\n"
     ]
    }
   ],
   "source": [
    "# create the database: sparkifydb \n",
    "!echo \"CREATE DATABASE sparkifydb;\" | sudo -u postgres psql"
   ]
  },
  {
   "cell_type": "code",
   "execution_count": 21,
   "metadata": {
    "editable": true
   },
   "outputs": [
    {
     "name": "stdout",
     "output_type": "stream",
     "text": [
      "                              List of databases\n",
      "    Name    |  Owner   | Encoding  | Collate | Ctype |   Access privileges   \n",
      "------------+----------+-----------+---------+-------+-----------------------\n",
      " postgres   | postgres | SQL_ASCII | C       | C     | \n",
      " sparkifydb | postgres | SQL_ASCII | C       | C     | \n",
      " studentdb  | postgres | SQL_ASCII | C       | C     | =Tc/postgres         +\n",
      "            |          |           |         |       | postgres=CTc/postgres+\n",
      "            |          |           |         |       | student=CTc/postgres\n",
      " template0  | postgres | SQL_ASCII | C       | C     | =c/postgres          +\n",
      "            |          |           |         |       | postgres=CTc/postgres\n",
      " template1  | postgres | SQL_ASCII | C       | C     | =c/postgres          +\n",
      "            |          |           |         |       | postgres=CTc/postgres\n",
      "(5 rows)\n",
      "\n"
     ]
    }
   ],
   "source": [
    "# list all postgres databases in current server. Note that sparkifydb now exists.\n",
    "!echo \"\\l\" | sudo -u postgres psql"
   ]
  },
  {
   "cell_type": "code",
   "execution_count": 22,
   "metadata": {
    "editable": true
   },
   "outputs": [],
   "source": [
    "# list all tables within the database (there should be no tables yet)\n",
    "!echo \"\\t\" | sudo -u postgres psql sparkifydb"
   ]
  }
 ],
 "metadata": {
  "kernelspec": {
   "display_name": "Python 3",
   "language": "python",
   "name": "python3"
  },
  "language_info": {
   "codemirror_mode": {
    "name": "ipython",
    "version": 3
   },
   "file_extension": ".py",
   "mimetype": "text/x-python",
   "name": "python",
   "nbconvert_exporter": "python",
   "pygments_lexer": "ipython3",
   "version": "3.6.3"
  }
 },
 "nbformat": 4,
 "nbformat_minor": 4
}
